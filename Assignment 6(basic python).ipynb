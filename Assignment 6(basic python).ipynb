{
 "cells": [
  {
   "cell_type": "markdown",
   "id": "43f1df9c",
   "metadata": {},
   "source": [
    "# 1. Write a Python Program to Display Fibonacci Sequence Using Recursion."
   ]
  },
  {
   "cell_type": "code",
   "execution_count": null,
   "id": "66dbecaf",
   "metadata": {},
   "outputs": [],
   "source": [
    "\n",
    "times = int(input(\"Enter the nterms:\"))\n",
    "\n",
    "n1=0\n",
    "n2=1\n",
    "count = 0\n",
    "\n",
    "if times <= 0:\n",
    "    print(\"Enter positive value.\")\n",
    "elif times == 1:\n",
    "    print(\"The Fibonacci Sequence:\",n1)\n",
    "else:\n",
    "    while count < times:\n",
    "        print(n1)\n",
    "        nth = n1 +n2\n",
    "        n1 = n2\n",
    "        n2 = nth\n",
    "        count = count + 1\n"
   ]
  },
  {
   "cell_type": "markdown",
   "id": "df959c44",
   "metadata": {},
   "source": [
    "# 2. Write a Python Program to Find Factorial of Number Using Recursion"
   ]
  },
  {
   "cell_type": "code",
   "execution_count": 10,
   "id": "05dcdf61",
   "metadata": {},
   "outputs": [
    {
     "name": "stdout",
     "output_type": "stream",
     "text": [
      "Enter the number to Find the Factorial:9\n",
      "The Factorial of 9 is: 362880\n"
     ]
    }
   ],
   "source": [
    "\n",
    "\n",
    "num = int(input(\"Enter the number to Find the Factorial:\"))\n",
    "facto = 1\n",
    "if num < 0:\n",
    "    print(\"Please Enter the Postive Number\")\n",
    "elif num == 0:\n",
    "    print(\"The Factorial of 0 is 1.\")\n",
    "else:\n",
    "    for i in range(1,num+1):\n",
    "        facto = facto * i\n",
    "print(\"The Factorial of\",num,\"is:\",facto)"
   ]
  },
  {
   "cell_type": "markdown",
   "id": "35ffdc2a",
   "metadata": {},
   "source": [
    "# 3. Write a Python Program to calculate your Body Mass Index"
   ]
  },
  {
   "cell_type": "code",
   "execution_count": null,
   "id": "1e9f68a8",
   "metadata": {},
   "outputs": [
    {
     "name": "stdout",
     "output_type": "stream",
     "text": [
      "BMI Categories:\n",
      "\n",
      "Underweight = <18.5\n",
      "\n",
      "Normal weight = 18.5–24.9\n",
      "\n",
      "Overweight = 25–29.9\n",
      "\n",
      "Obesity = BMI of 30 or greater\n",
      "Enter Your Body Weight in Kg:80\n"
     ]
    }
   ],
   "source": [
    "print(\"\"\"BMI Categories:\\n\n",
    "Underweight = <18.5\\n\n",
    "Normal weight = 18.5–24.9\\n\n",
    "Overweight = 25–29.9\\n\n",
    "Obesity = BMI of 30 or greater\"\"\")\n",
    "kilo = int(input(\"Enter Your Body Weight in Kg:\"))\n",
    "height = float(input(\"Enter Your Body Height in meter:\"))\n",
    "\n",
    "BMI = kilo/(height*height)\n",
    "print(\"The Body Mass Index:\",BMI)\n"
   ]
  },
  {
   "cell_type": "markdown",
   "id": "731273d1",
   "metadata": {},
   "source": [
    "# 4. Write a Python Program to calculate the natural logarithm of any number?"
   ]
  },
  {
   "cell_type": "code",
   "execution_count": 2,
   "id": "a571439b",
   "metadata": {},
   "outputs": [
    {
     "name": "stdout",
     "output_type": "stream",
     "text": [
      "\n",
      "np.log(4**4) :  5.545177444479562\n",
      "np.log(2**8) :  5.545177444479562\n"
     ]
    }
   ],
   "source": [
    "import numpy as np \n",
    "\n",
    "print(\"\\nnp.log(4**4) : \", np.log(4**4)) \n",
    "print(\"np.log(2**8) : \", np.log(2**8)) "
   ]
  },
  {
   "cell_type": "markdown",
   "id": "4b5318a1",
   "metadata": {},
   "source": [
    "# 5. Write a Python Program for cube sum of first n natural numbers?"
   ]
  },
  {
   "cell_type": "code",
   "execution_count": 12,
   "id": "ab0f765d",
   "metadata": {},
   "outputs": [
    {
     "name": "stdout",
     "output_type": "stream",
     "text": [
      "Enter to find cube sum of first n natural number:9\n",
      "The Cube Sum of first 9 natural number is: 2025\n"
     ]
    }
   ],
   "source": [
    "n = int(input(\"Enter to find cube sum of first n natural number:\"))\n",
    "csum = 0\n",
    "for i in range(1,n+1):\n",
    "    csum = i**3 + csum\n",
    "\n",
    "print(\"The Cube Sum of first\",n,\"natural number is:\",csum)"
   ]
  }
 ],
 "metadata": {
  "kernelspec": {
   "display_name": "Python 3 (ipykernel)",
   "language": "python",
   "name": "python3"
  },
  "language_info": {
   "codemirror_mode": {
    "name": "ipython",
    "version": 3
   },
   "file_extension": ".py",
   "mimetype": "text/x-python",
   "name": "python",
   "nbconvert_exporter": "python",
   "pygments_lexer": "ipython3",
   "version": "3.11.5"
  }
 },
 "nbformat": 4,
 "nbformat_minor": 5
}
